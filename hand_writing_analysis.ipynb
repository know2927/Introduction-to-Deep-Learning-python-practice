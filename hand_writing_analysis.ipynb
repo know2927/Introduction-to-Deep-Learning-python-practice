{
 "cells": [
  {
   "cell_type": "code",
   "execution_count": 3,
   "metadata": {},
   "outputs": [
    {
     "name": "stdout",
     "output_type": "stream",
     "text": [
      "Epoch 1/3\n",
      "240000/240000 [==============================] - 31s 131us/sample - loss: 0.1208 - acc: 0.9649\n",
      "Epoch 2/3\n",
      "240000/240000 [==============================] - 31s 131us/sample - loss: 0.0486 - acc: 0.9849\n",
      "Epoch 3/3\n",
      "240000/240000 [==============================] - 31s 131us/sample - loss: 0.0360 - acc: 0.9890\n"
     ]
    },
    {
     "data": {
      "text/plain": [
       "<tensorflow.python.keras.callbacks.History at 0x296a9ec8>"
      ]
     },
     "execution_count": 3,
     "metadata": {},
     "output_type": "execute_result"
    }
   ],
   "source": [
    "\"\"\"Code borrowed from sentdex Introduction to Deep Learning https://pythonprogramming.net/introduction-deep-learning-python-tensorflow-keras/\n",
    "it contains some of the comments and modifications I am learning on\"\"\"\n",
    "\n",
    "import tensorflow as tf\n",
    "from scipy import io as spio\n",
    "import numpy as np\n",
    "\n",
    "emnist = spio.loadmat(\"datasets/matlab/emnist-digits.mat\")\n",
    "\n",
    "##(x_train, y_train), (x_test, y_test)= emnist.load_data() for keras data\n",
    "# load training dataset\n",
    "x_train = emnist[\"dataset\"][0][0][0][0][0][0]\n",
    "x_train = x_train.astype(np.float32)\n",
    "\n",
    "# load training labels\n",
    "y_train = emnist[\"dataset\"][0][0][0][0][0][1]\n",
    "\n",
    "#expand the scale of the vectors\n",
    "x_train = tf.keras.utils.normalize(x_train, axis=1)\n",
    "\n",
    "\n",
    "model = tf.keras.models.Sequential() #layers follow one after another\n",
    "model.add(tf.keras.layers.Flatten()) #Flatten the lead to a single line\n",
    "model.add(tf.keras.layers.Dense(256, activation = tf.nn.relu)) #128 nodes in this hidden layer\n",
    "model.add(tf.keras.layers.Dense(256, activation = tf.nn.relu)) #256 nodes in this hidden layer\n",
    "model.add(tf.keras.layers.Dense(10, activation = tf.nn.softmax)) #10 nodes in the output layer picking which value it should be\n",
    "\n",
    "model.compile(optimizer= 'Adam', loss= 'sparse_categorical_crossentropy', metrics = ['accuracy'] )\n",
    "\n",
    "model.fit(x_train, y_train, epochs = 3)\n"
   ]
  },
  {
   "cell_type": "code",
   "execution_count": 10,
   "metadata": {},
   "outputs": [
    {
     "name": "stdout",
     "output_type": "stream",
     "text": [
      "40000/40000 [==============================] - 2s 38us/sample - loss: 0.0393 - acc: 0.9877\n",
      "40000\n",
      "The sample was 2382\n",
      "I think it is a 4\n"
     ]
    },
    {
     "data": {
      "image/png": "[encoded data removed]",
      "text/plain": [
       "<Figure size 432x288 with 1 Axes>"
      ]
     },
     "metadata": {
      "needs_background": "light"
     },
     "output_type": "display_data"
    }
   ],
   "source": [
    "import numpy as np\n",
    "import matplotlib.pyplot as plt\n",
    "import random\n",
    "\n",
    "random.seed()\n",
    "\n",
    "# load test dataset\n",
    "x_test = emnist[\"dataset\"][0][0][1][0][0][0]\n",
    "x_test = x_test.astype(np.float32)\n",
    "\n",
    "# load test labels\n",
    "y_test = emnist[\"dataset\"][0][0][1][0][0][1]\n",
    "\n",
    "x_test = tf.keras.utils.normalize(x_test, axis=1)\n",
    "\n",
    "val_loss, val_acc = model.evaluate(x_test, y_test)\n",
    "print(len(x_test))\n",
    "x_test = x_test.reshape(x_test.shape[0], 1, 28, 28, order=\"A\")\n",
    "# load ONE image from training set to display on screen\n",
    "prediction = model.predict([x_test])\n",
    "guess =random.randint(0, len(prediction))\n",
    "print ('The sample was', guess)\n",
    "print ('I think it is a', np.argmax(prediction[guess]))\n",
    "img = x_test[guess]\n",
    "\n",
    "\n",
    "# trick our generator into believing img has enough dimensions\n",
    "# and get some augmented images for our single test image\n",
    "img = np.expand_dims(img, axis=0)\n",
    "\n",
    "plt.imshow(img.reshape((28,28)), cmap='gray')\n",
    "plt.show()"
   ]
  },
  {
   "cell_type": "code",
   "execution_count": null,
   "metadata": {},
   "outputs": [],
   "source": []
  },
  {
   "cell_type": "code",
   "execution_count": null,
   "metadata": {},
   "outputs": [],
   "source": []
  }
 ],
 "metadata": {
  "kernelspec": {
   "display_name": "Python 3",
   "language": "python",
   "name": "python3"
  },
  "language_info": {
   "codemirror_mode": {
    "name": "ipython",
    "version": 3
   },
   "file_extension": ".py",
   "mimetype": "text/x-python",
   "name": "python",
   "nbconvert_exporter": "python",
   "pygments_lexer": "ipython3",
   "version": "3.7.6"
  }
 },
 "nbformat": 4,
 "nbformat_minor": 4
}
